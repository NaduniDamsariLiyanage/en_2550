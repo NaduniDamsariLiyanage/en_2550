{
 "cells": [
  {
   "cell_type": "markdown",
   "metadata": {},
   "source": [
    "EN2550: Assignment 03 on Object Counting on a Conveyor Belt\n",
    "Connected Component Analysis\n",
    "In this part, we will generate an indexed image representing connected components in conveyor_f101.png image. Notice that, as there are three square nuts and one hexagonal nut in the image, there will be five connected components (backgound will be assigned the label 0).\n",
    "\n",
    "Open the hexnut_template.png, squarenut_template.png and conveyor_f100.png and display. This is done for you."
   ]
  },
  {
   "cell_type": "code",
   "execution_count": null,
   "metadata": {},
   "outputs": [],
   "source": []
  }
 ],
 "metadata": {
  "language_info": {
   "name": "python"
  },
  "orig_nbformat": 4
 },
 "nbformat": 4,
 "nbformat_minor": 2
}

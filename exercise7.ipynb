{
 "cells": [
  {
   "cell_type": "markdown",
   "metadata": {},
   "source": [
    "Name : N.D. Liyanage\n",
    "\n",
    "Index Number : 190356E"
   ]
  },
  {
   "cell_type": "code",
   "execution_count": null,
   "metadata": {},
   "outputs": [],
   "source": [
    "import p"
   ]
  },
  {
   "cell_type": "code",
   "execution_count": null,
   "metadata": {},
   "outputs": [],
   "source": [
    "import numpy as np\n",
    "from plyfile import PlyData, PlyElement \n",
    "import matplotlib.pyplot as plt\n",
    "\n",
    "\n",
    "pcd = PlyData.read('images/airplane.ply')\n",
    "assert pcd is not None\n",
    "\n",
    "points = np.concatenate((pcd['vertex']['x'].reshape(1,-1),pcd['vertex']['y'].reshape(1,-1),pcd['vertex']['z'].reshape(1,-1)))\n"
   ]
  },
  {
   "cell_type": "code",
   "execution_count": null,
   "metadata": {},
   "outputs": [],
   "source": [
    "ones = np.ones((i,points.shape[1]))\n",
    "X = np.concatenate((points,ones),axis=0)\n",
    "\n",
    "R = np.array([[1,0,0],[0,1,0],[0,0,1]])\n",
    "K = np.array([[1,0,0],[0,1,0],[0,0,1]])\n",
    "t = np.array([0],[0],[-4000])\n",
    "\n",
    "P1 = K @ np.concatenate((R,t),axis =1)\n",
    "\n",
    "x1 = P1 @ X\n",
    "x2 = P2 @ X\n",
    "x1 = x1/x1[2,:]\n",
    "\n",
    "fig,ax = plt.subplots(1,1,sharex=True,sharey=True)\n",
    "ax.scatter(x1[0,:],x1[1,:])\n",
    "ax.scatter(x2[0,:],x1[1,:])\n",
    "ax.axis('equal')\n",
    "plt.show()"
   ]
  },
  {
   "cell_type": "code",
   "execution_count": null,
   "metadata": {},
   "outputs": [],
   "source": [
    "import cv2 as cv\n",
    "import numpy as np\n",
    "im = cv.imread('images/earrings.jpg',cv.IMREAD_COLOR)\n",
    "assert im is not None\n",
    "hsv = cv.cvtColor(im,cv.COLOR_BGR2HSV)\n",
    "th, bw = cv.threshold(hsv[:,:,1],0,255,cv.THRESH_BINARY+cv.THRESH_OTSU)\n",
    "w=5\n",
    "kernal = np.ones((w,w),np.uint8)\n",
    "opened = cv.morphologyEx(bw,cv.MORPH_CLOSE, kernal)\n",
    "retval, labels, stats, centroids = cv.connectedComponentsWithStats(bw)\n",
    "colormapped = cv.applyColorMap((labels/np.amax(labels)*255).astype('uint8'),cv.COLORMAP_PARULA)\n",
    "z = 720\n",
    "f = 8\n",
    "for i,s in enumerate(stats):\n",
    "    if i != 0:\n",
    "        print('Item', i, '')\n",
    "cv.i\\"
   ]
  }
 ],
 "metadata": {
  "language_info": {
   "name": "python"
  },
  "orig_nbformat": 4
 },
 "nbformat": 4,
 "nbformat_minor": 2
}

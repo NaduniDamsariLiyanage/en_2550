{
 "cells": [
  {
   "cell_type": "code",
   "execution_count": 3,
   "metadata": {},
   "outputs": [],
   "source": [
    "import numpy as np\n",
    "import cv2 as cv\n",
    "import matplotlib.pyplot as plt\n",
    "\n",
    "temple = open(r'./templeSparseRing/templeSR_par.txt','r')\n",
    "assert temple is not None\n",
    "n = int(temple.readline())\n",
    "\n",
    "# Reading the information on the first image\n",
    "l = temple.readline().split()\n",
    "im1_fn = l[0]\n",
    "K1 = np.array([float(i) for i in l[1:10]]).reshape((3,3))\n",
    "R1 = np.array([float(i) for i in l[10:19]]).reshape((3,3))\n",
    "t1 = np.array([float(i) for i in l[19:22]]).reshape((3,1))\n",
    "\n",
    "# Reading the information on the second image\n",
    "l = temple.readline().split()\n",
    "im2_fn = l[0]\n",
    "K2 = np.array([float(i) for i in l[1:10]]).reshape((3,3))\n",
    "R2 = np.array([float(i) for i in l[10:19]]).reshape((3,3))\n",
    "t2 = np.array([float(i) for i in l[19:22]]).reshape((3,1))\n",
    "\n",
    "#read 2 images and show\n",
    "im1 = cv.imread(r'./templeSparseRing/'+ im1_fn, cv.IMREAD_COLOR)\n",
    "im2 = cv.imread(r'./templeSparseRing/'+ im2_fn, cv.IMREAD_COLOR)\n",
    "assert im1 is not None\n",
    "assert im2 is not None"
   ]
  },
  {
   "cell_type": "code",
   "execution_count": 5,
   "metadata": {},
   "outputs": [
    {
     "ename": "AttributeError",
     "evalue": "module 'cv2' has no attribute 'xfeatures2d'",
     "output_type": "error",
     "traceback": [
      "\u001b[1;31m---------------------------------------------------------------------------\u001b[0m",
      "\u001b[1;31mAttributeError\u001b[0m                            Traceback (most recent call last)",
      "\u001b[1;32md:\\sem4\\image processing and machine vision\\en_2550\\exercise9.ipynb Cell 2'\u001b[0m in \u001b[0;36m<module>\u001b[1;34m\u001b[0m\n\u001b[0;32m      <a href='vscode-notebook-cell:/d%3A/sem4/image%20processing%20and%20machine%20vision/en_2550/exercise9.ipynb#ch0000001?line=0'>1</a>\u001b[0m \u001b[39mimport\u001b[39;00m \u001b[39mcv2\u001b[39;00m \u001b[39mas\u001b[39;00m \u001b[39mcv\u001b[39;00m\n\u001b[1;32m----> <a href='vscode-notebook-cell:/d%3A/sem4/image%20processing%20and%20machine%20vision/en_2550/exercise9.ipynb#ch0000001?line=1'>2</a>\u001b[0m sift \u001b[39m=\u001b[39m cv\u001b[39m.\u001b[39;49mxfeatures2d\u001b[39m.\u001b[39mSIFT_create()\n\u001b[0;32m      <a href='vscode-notebook-cell:/d%3A/sem4/image%20processing%20and%20machine%20vision/en_2550/exercise9.ipynb#ch0000001?line=2'>3</a>\u001b[0m kp1, decs1 \u001b[39m=\u001b[39m sift\u001b[39m.\u001b[39mdetectAndCompute(im1, \u001b[39mNone\u001b[39;00m)\n",
      "\u001b[1;31mAttributeError\u001b[0m: module 'cv2' has no attribute 'xfeatures2d'"
     ]
    }
   ],
   "source": [
    "import cv2 as cv\n",
    "sift = cv.xfeatures2d.SIFT_create()\n",
    "kp1, decs1 = sift.detectAndCompute(im1, None)"
   ]
  }
 ],
 "metadata": {
  "interpreter": {
   "hash": "63fd5069d213b44bf678585dea6b12cceca9941eaf7f819626cde1f2670de90d"
  },
  "kernelspec": {
   "display_name": "Python 3.9.10 64-bit",
   "language": "python",
   "name": "python3"
  },
  "language_info": {
   "codemirror_mode": {
    "name": "ipython",
    "version": 3
   },
   "file_extension": ".py",
   "mimetype": "text/x-python",
   "name": "python",
   "nbconvert_exporter": "python",
   "pygments_lexer": "ipython3",
   "version": "3.9.10"
  },
  "orig_nbformat": 4
 },
 "nbformat": 4,
 "nbformat_minor": 2
}
